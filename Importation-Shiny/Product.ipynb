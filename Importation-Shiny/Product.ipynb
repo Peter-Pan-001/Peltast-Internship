{
 "cells": [
  {
   "cell_type": "code",
   "execution_count": 14,
   "metadata": {},
   "outputs": [
    {
     "data": {
      "text/html": [
       "<div>\n",
       "<style scoped>\n",
       "    .dataframe tbody tr th:only-of-type {\n",
       "        vertical-align: middle;\n",
       "    }\n",
       "\n",
       "    .dataframe tbody tr th {\n",
       "        vertical-align: top;\n",
       "    }\n",
       "\n",
       "    .dataframe thead th {\n",
       "        text-align: right;\n",
       "    }\n",
       "</style>\n",
       "<table border=\"1\" class=\"dataframe\">\n",
       "  <thead>\n",
       "    <tr style=\"text-align: right;\">\n",
       "      <th></th>\n",
       "      <th>HS_Code</th>\n",
       "      <th>Consignee</th>\n",
       "      <th>Exporter</th>\n",
       "      <th>Goods_Description</th>\n",
       "      <th>Country_Origin</th>\n",
       "      <th>Gross_Mass_KGS</th>\n",
       "      <th>Customs_Value</th>\n",
       "      <th>Currency</th>\n",
       "      <th>Exchange_Rate</th>\n",
       "      <th>Date</th>\n",
       "      <th>Month</th>\n",
       "      <th>Year</th>\n",
       "      <th>latitude</th>\n",
       "      <th>longitude</th>\n",
       "      <th>name</th>\n",
       "      <th>Customs_Value_PHP</th>\n",
       "      <th>USD_to_PHP</th>\n",
       "      <th>Customs_Value_USD</th>\n",
       "    </tr>\n",
       "  </thead>\n",
       "  <tbody>\n",
       "    <tr>\n",
       "      <th>0</th>\n",
       "      <td>84241090000</td>\n",
       "      <td>TSUNEISHI HEAVY INDUSTRIES CEBU INC</td>\n",
       "      <td>S.J. CORPORATION LTD.</td>\n",
       "      <td>FIRE HOSE, WRENCH, IMO SYMBOL STICKER, ETC.</td>\n",
       "      <td>KR</td>\n",
       "      <td>4896.02</td>\n",
       "      <td>49884.0</td>\n",
       "      <td>USD</td>\n",
       "      <td>47.166</td>\n",
       "      <td>2016-01-02</td>\n",
       "      <td>1</td>\n",
       "      <td>2016</td>\n",
       "      <td>35.907757</td>\n",
       "      <td>127.766922</td>\n",
       "      <td>Republic of Korea</td>\n",
       "      <td>2352828.744</td>\n",
       "      <td>47.166</td>\n",
       "      <td>49884.0</td>\n",
       "    </tr>\n",
       "    <tr>\n",
       "      <th>1</th>\n",
       "      <td>84241090000</td>\n",
       "      <td>TSUNEISHI HEAVY INDUSTRIES CEBU INC</td>\n",
       "      <td>SEAPLUS CO., LTD.</td>\n",
       "      <td>FIRE FIGHTING SYSTEM</td>\n",
       "      <td>KR</td>\n",
       "      <td>25490.00</td>\n",
       "      <td>53000.0</td>\n",
       "      <td>USD</td>\n",
       "      <td>47.166</td>\n",
       "      <td>2016-01-02</td>\n",
       "      <td>1</td>\n",
       "      <td>2016</td>\n",
       "      <td>35.907757</td>\n",
       "      <td>127.766922</td>\n",
       "      <td>Republic of Korea</td>\n",
       "      <td>2499798.000</td>\n",
       "      <td>47.166</td>\n",
       "      <td>53000.0</td>\n",
       "    </tr>\n",
       "    <tr>\n",
       "      <th>2</th>\n",
       "      <td>40091100000</td>\n",
       "      <td>SAMSUNG ELECTRO-MECHANICS</td>\n",
       "      <td>JIN TECH COMPANY</td>\n",
       "      <td>FAN</td>\n",
       "      <td>KR</td>\n",
       "      <td>23.00</td>\n",
       "      <td>1340.0</td>\n",
       "      <td>USD</td>\n",
       "      <td>47.166</td>\n",
       "      <td>2016-01-05</td>\n",
       "      <td>1</td>\n",
       "      <td>2016</td>\n",
       "      <td>35.907757</td>\n",
       "      <td>127.766922</td>\n",
       "      <td>Republic of Korea</td>\n",
       "      <td>63202.440</td>\n",
       "      <td>47.166</td>\n",
       "      <td>1340.0</td>\n",
       "    </tr>\n",
       "    <tr>\n",
       "      <th>3</th>\n",
       "      <td>84241090000</td>\n",
       "      <td>TSUNEISHI HEAVY INDUSTRIES CEBU INC</td>\n",
       "      <td>SEAPLUS CO., LTD</td>\n",
       "      <td>S.T.C. FIRE FIGHTING SYSTEM</td>\n",
       "      <td>KR</td>\n",
       "      <td>710.00</td>\n",
       "      <td>20550.0</td>\n",
       "      <td>USD</td>\n",
       "      <td>47.070</td>\n",
       "      <td>2016-01-11</td>\n",
       "      <td>1</td>\n",
       "      <td>2016</td>\n",
       "      <td>35.907757</td>\n",
       "      <td>127.766922</td>\n",
       "      <td>Republic of Korea</td>\n",
       "      <td>967288.500</td>\n",
       "      <td>47.070</td>\n",
       "      <td>20550.0</td>\n",
       "    </tr>\n",
       "    <tr>\n",
       "      <th>4</th>\n",
       "      <td>84241090000</td>\n",
       "      <td>TSUNEISHI HEAVY INDUSTRIES CEBU INC</td>\n",
       "      <td>SEAPLUS CO., LTD</td>\n",
       "      <td>S.T.C. H.P FIRE FIGHTING SYSTEM</td>\n",
       "      <td>KR</td>\n",
       "      <td>690.00</td>\n",
       "      <td>14000.0</td>\n",
       "      <td>USD</td>\n",
       "      <td>47.679</td>\n",
       "      <td>2016-01-18</td>\n",
       "      <td>1</td>\n",
       "      <td>2016</td>\n",
       "      <td>35.907757</td>\n",
       "      <td>127.766922</td>\n",
       "      <td>Republic of Korea</td>\n",
       "      <td>667506.000</td>\n",
       "      <td>47.679</td>\n",
       "      <td>14000.0</td>\n",
       "    </tr>\n",
       "  </tbody>\n",
       "</table>\n",
       "</div>"
      ],
      "text/plain": [
       "       HS_Code                            Consignee               Exporter  \\\n",
       "0  84241090000  TSUNEISHI HEAVY INDUSTRIES CEBU INC  S.J. CORPORATION LTD.   \n",
       "1  84241090000  TSUNEISHI HEAVY INDUSTRIES CEBU INC      SEAPLUS CO., LTD.   \n",
       "2  40091100000            SAMSUNG ELECTRO-MECHANICS       JIN TECH COMPANY   \n",
       "3  84241090000  TSUNEISHI HEAVY INDUSTRIES CEBU INC       SEAPLUS CO., LTD   \n",
       "4  84241090000  TSUNEISHI HEAVY INDUSTRIES CEBU INC       SEAPLUS CO., LTD   \n",
       "\n",
       "                             Goods_Description Country_Origin  Gross_Mass_KGS  \\\n",
       "0  FIRE HOSE, WRENCH, IMO SYMBOL STICKER, ETC.             KR         4896.02   \n",
       "1                         FIRE FIGHTING SYSTEM             KR        25490.00   \n",
       "2                                          FAN             KR           23.00   \n",
       "3                  S.T.C. FIRE FIGHTING SYSTEM             KR          710.00   \n",
       "4              S.T.C. H.P FIRE FIGHTING SYSTEM             KR          690.00   \n",
       "\n",
       "   Customs_Value Currency  Exchange_Rate        Date  Month  Year   latitude  \\\n",
       "0        49884.0      USD         47.166  2016-01-02      1  2016  35.907757   \n",
       "1        53000.0      USD         47.166  2016-01-02      1  2016  35.907757   \n",
       "2         1340.0      USD         47.166  2016-01-05      1  2016  35.907757   \n",
       "3        20550.0      USD         47.070  2016-01-11      1  2016  35.907757   \n",
       "4        14000.0      USD         47.679  2016-01-18      1  2016  35.907757   \n",
       "\n",
       "    longitude               name  Customs_Value_PHP  USD_to_PHP  \\\n",
       "0  127.766922  Republic of Korea        2352828.744      47.166   \n",
       "1  127.766922  Republic of Korea        2499798.000      47.166   \n",
       "2  127.766922  Republic of Korea          63202.440      47.166   \n",
       "3  127.766922  Republic of Korea         967288.500      47.070   \n",
       "4  127.766922  Republic of Korea         667506.000      47.679   \n",
       "\n",
       "   Customs_Value_USD  \n",
       "0            49884.0  \n",
       "1            53000.0  \n",
       "2             1340.0  \n",
       "3            20550.0  \n",
       "4            14000.0  "
      ]
     },
     "execution_count": 14,
     "metadata": {},
     "output_type": "execute_result"
    }
   ],
   "source": [
    "import numpy as np\n",
    "import pandas as pd\n",
    "import re\n",
    "import collections\n",
    "\n",
    "data = pd.read_csv('Final_Dataset_Location.csv')\n",
    "data.drop('Unnamed: 0', axis = 1, inplace = True)\n",
    "data.head()"
   ]
  },
  {
   "cell_type": "code",
   "execution_count": 3,
   "metadata": {},
   "outputs": [
    {
     "data": {
      "text/plain": [
       "array([84241090000, 40091100000, 38130000000, 40081190000, 29033990000])"
      ]
     },
     "execution_count": 3,
     "metadata": {},
     "output_type": "execute_result"
    }
   ],
   "source": [
    "data.HS_Code.unique()"
   ]
  },
  {
   "cell_type": "code",
   "execution_count": 5,
   "metadata": {},
   "outputs": [
    {
     "name": "stdout",
     "output_type": "stream",
     "text": [
      "<class 'pandas.core.frame.DataFrame'>\n",
      "RangeIndex: 8304 entries, 0 to 8303\n",
      "Data columns (total 18 columns):\n",
      "HS_Code              8304 non-null int64\n",
      "Consignee            8304 non-null object\n",
      "Exporter             8304 non-null object\n",
      "Goods_Description    8279 non-null object\n",
      "Country_Origin       8304 non-null object\n",
      "Gross_Mass_KGS       8304 non-null float64\n",
      "Customs_Value        8304 non-null float64\n",
      "Currency             8304 non-null object\n",
      "Exchange_Rate        8304 non-null float64\n",
      "Date                 8304 non-null object\n",
      "Month                8304 non-null int64\n",
      "Year                 8304 non-null int64\n",
      "latitude             8304 non-null float64\n",
      "longitude            8304 non-null float64\n",
      "name                 8304 non-null object\n",
      "Customs_Value_PHP    8304 non-null float64\n",
      "USD_to_PHP           8304 non-null float64\n",
      "Customs_Value_USD    8304 non-null float64\n",
      "dtypes: float64(8), int64(3), object(7)\n",
      "memory usage: 1.1+ MB\n"
     ]
    }
   ],
   "source": [
    "data.info()"
   ]
  },
  {
   "cell_type": "code",
   "execution_count": 16,
   "metadata": {},
   "outputs": [
    {
     "data": {
      "text/plain": [
       "[('FIRE', 315),\n",
       " ('EXTINGUISHER', 217),\n",
       " ('', 175),\n",
       " ('&', 136),\n",
       " ('EMPTY', 108),\n",
       " ('CYLINDER', 98),\n",
       " ('FOR', 55),\n",
       " ('AND', 53),\n",
       " ('CYLINDERS', 45),\n",
       " ('WITH', 37)]"
      ]
     },
     "execution_count": 16,
     "metadata": {},
     "output_type": "execute_result"
    }
   ],
   "source": [
    "temp1 = data[data['HS_Code'] == 84241090000]\n",
    "unique1 = temp1['Goods_Description'].unique()\n",
    "string1 = ''\n",
    "for i in range(len(unique1)):\n",
    "    string1 += str(unique1[i])\n",
    "counter1 = collections.Counter(re.split(' |,', string1))\n",
    "counter1.most_common(10)"
   ]
  },
  {
   "cell_type": "code",
   "execution_count": 17,
   "metadata": {},
   "outputs": [
    {
     "data": {
      "text/plain": [
       "[('', 380),\n",
       " ('HOSE', 308),\n",
       " ('RUBBER', 145),\n",
       " ('FOR', 91),\n",
       " ('TUBE', 69),\n",
       " ('INSULATION', 67),\n",
       " ('FOAM', 53),\n",
       " ('PC', 51),\n",
       " ('PCS', 47),\n",
       " ('PARTS', 43)]"
      ]
     },
     "execution_count": 17,
     "metadata": {},
     "output_type": "execute_result"
    }
   ],
   "source": [
    "temp2 = data[data['HS_Code'] == 40091100000]\n",
    "unique2 = temp2['Goods_Description'].unique()\n",
    "string2 = ''\n",
    "for i in range(len(unique2)):\n",
    "    string2 += str(unique2[i])\n",
    "counter2 = collections.Counter(re.split(' |,', string2))\n",
    "counter2.most_common(10)"
   ]
  },
  {
   "cell_type": "code",
   "execution_count": 18,
   "metadata": {},
   "outputs": [
    {
     "data": {
      "text/plain": [
       "[('DRY', 59),\n",
       " ('FIRE', 43),\n",
       " ('FOAM', 41),\n",
       " ('POWDER', 40),\n",
       " ('', 27),\n",
       " ('OF', 22),\n",
       " ('FIGHTING', 20),\n",
       " ('AFFF', 19),\n",
       " ('EXTINGUISHING', 19),\n",
       " ('FOR', 19)]"
      ]
     },
     "execution_count": 18,
     "metadata": {},
     "output_type": "execute_result"
    }
   ],
   "source": [
    "temp3 = data[data['HS_Code'] == 38130000000]\n",
    "unique3 = temp3['Goods_Description'].unique()\n",
    "string3 = ''\n",
    "for i in range(len(unique3)):\n",
    "    string3 += str(unique3[i])\n",
    "counter3 = collections.Counter(re.split(' |,', string3))\n",
    "counter3.most_common(10)"
   ]
  },
  {
   "cell_type": "code",
   "execution_count": 19,
   "metadata": {},
   "outputs": [
    {
     "data": {
      "text/plain": [
       "[('RUBBER', 124),\n",
       " ('', 102),\n",
       " ('INSULATION', 63),\n",
       " ('SHEET', 42),\n",
       " ('FOAM', 31),\n",
       " ('PLATE', 25),\n",
       " ('SILICONE', 17),\n",
       " ('X', 15),\n",
       " ('CLEAN', 15),\n",
       " ('FOR', 14)]"
      ]
     },
     "execution_count": 19,
     "metadata": {},
     "output_type": "execute_result"
    }
   ],
   "source": [
    "temp4 = data[data['HS_Code'] == 40081190000]\n",
    "unique4 = temp4['Goods_Description'].unique()\n",
    "string4 = ''\n",
    "for i in range(len(unique4)):\n",
    "    string4 += str(unique4[i])\n",
    "counter4 = collections.Counter(re.split(' |,', string4))\n",
    "counter4.most_common(10)"
   ]
  },
  {
   "cell_type": "code",
   "execution_count": 20,
   "metadata": {},
   "outputs": [
    {
     "data": {
      "text/plain": [
       "[('GAS', 116),\n",
       " ('REFRIGERANT', 83),\n",
       " ('R134A', 56),\n",
       " ('', 49),\n",
       " ('1', 31),\n",
       " ('20', 31),\n",
       " ('IN', 30),\n",
       " ('STC', 28),\n",
       " ('stc:', 24),\n",
       " ('DSX', 23)]"
      ]
     },
     "execution_count": 20,
     "metadata": {},
     "output_type": "execute_result"
    }
   ],
   "source": [
    "temp5 = data[data['HS_Code'] == 29033990000]\n",
    "unique5 = temp5['Goods_Description'].unique()\n",
    "string5 = ''\n",
    "for i in range(len(unique5)):\n",
    "    string5 += str(unique5[i])\n",
    "counter5 = collections.Counter(re.split(' |,', string5))\n",
    "counter5.most_common(10)"
   ]
  },
  {
   "cell_type": "code",
   "execution_count": null,
   "metadata": {},
   "outputs": [],
   "source": []
  }
 ],
 "metadata": {
  "kernelspec": {
   "display_name": "Python 3",
   "language": "python",
   "name": "python3"
  },
  "language_info": {
   "codemirror_mode": {
    "name": "ipython",
    "version": 3
   },
   "file_extension": ".py",
   "mimetype": "text/x-python",
   "name": "python",
   "nbconvert_exporter": "python",
   "pygments_lexer": "ipython3",
   "version": "3.7.3"
  }
 },
 "nbformat": 4,
 "nbformat_minor": 2
}
